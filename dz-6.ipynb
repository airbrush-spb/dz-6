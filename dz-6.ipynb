{
 "cells": [
  {
   "cell_type": "code",
   "execution_count": null,
   "metadata": {},
   "outputs": [],
   "source": [
    "import json\n",
    "\n",
    "i = 0\n",
    "with open('purchase_log.txt', encoding='utf-8') as f:\n",
    "    for line in f:\n",
    "        line = line.strip()\n",
    "        purchase = json.loads(line)\n",
    "        purchases = {purchase['user_id']:purchase['category']}\n",
    "        print(purchases)\n",
    "        \n",
    "        i += 1\n",
    "        if i > 5:\n",
    "            break"
   ]
  },
  {
   "cell_type": "code",
   "execution_count": null,
   "metadata": {},
   "outputs": [],
   "source": [
    "import csv\n",
    "with open ('visit_log.csv', 'r') as file_2:\n",
    "    with open('funnel.csv', 'w', encoding='utf-8') as file_write:\n",
    "        for line_2 in file_2:\n",
    "            el = line_2.strip().split(',')\n",
    "            if line['user_id'] == el[0]:\n",
    "                a = line['category']\n",
    "                file_write.write(f'{el[0]},{el[1]},{a}\\n')\n",
    "            elif purchase.get(el[0]) != None and el[1] != None:\n",
    "                b = purchase.get(el[0])\n",
    "                file_write.write(f'{el[0]},{el[1]},{b}\\n')"
   ]
  }
 ],
 "metadata": {
  "kernelspec": {
   "display_name": "Python 3",
   "language": "python",
   "name": "python3"
  },
  "language_info": {
   "codemirror_mode": {
    "name": "ipython",
    "version": 3
   },
   "file_extension": ".py",
   "mimetype": "text/x-python",
   "name": "python",
   "nbconvert_exporter": "python",
   "pygments_lexer": "ipython3",
   "version": "3.8.3"
  }
 },
 "nbformat": 4,
 "nbformat_minor": 4
}
